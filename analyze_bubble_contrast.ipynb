{
 "cells": [
  {
   "cell_type": "markdown",
   "metadata": {},
   "source": [
    "# Analyze Bubble Contrast\n",
    "\n",
    "This notebook analyzes the average value of the gradient along the perimeter (and, unfortunately, the inner bright region) of long bubbles as they passed through the observation capillary during the initial degassing of the inner stream (release of vapor/bubbles collected at the top of the ISCO 100 DM syringe pump for the inner stream). \n",
    "\n",
    "The gradient along the bubble perimeter was extracted and averaged using the script `measure_bubble_contrast.py` in this same folder. The results were saved in a pickle file, which we analyze here."
   ]
  },
  {
   "cell_type": "code",
   "execution_count": 1,
   "metadata": {},
   "outputs": [],
   "source": [
    "import pickle as pkl\n",
    "import numpy as np\n",
    "import matplotlib.pyplot as plt\n",
    "\n",
    "# data filepath\n",
    "data_filepath = 'results/gradient_data.pkl'"
   ]
  },
  {
   "cell_type": "markdown",
   "metadata": {},
   "source": [
    "We first plot the results to see if any obvious errors or trends stand out."
   ]
  },
  {
   "cell_type": "code",
   "execution_count": null,
   "metadata": {},
   "outputs": [],
   "source": [
    "# loads pickle file of gradient data\n",
    "with open(data_filepath, 'rb') as f:\n",
    "    data = pkl.load(f)\n",
    "    \n",
    "# extracts average gradient [pixels]\n",
    "mean_grad = data['mean gradients [pixels]']\n",
    "# extracts exposure time [us]\n",
    "exp_time = data['exposure times [us]']\n",
    "\n",
    "# plots average gradient vs. exposure time\n",
    "fig = plt.figure()\n",
    "ax = fig.add_subplot(111)\n",
    "ax.plot(exp_time, mean_grad)\n",
    "ax.set_xlabel('exposure time [us]', fontsize=16)\n",
    "ax.set_ylabel('mean gradient [pixels]', fontsize=16)\n",
    "ax.set_title('Contrast Along Bubble Perimeter vs. Exposure Time', fontsize=18)"
   ]
  }
 ],
 "metadata": {
  "kernelspec": {
   "display_name": "Python 3",
   "language": "python",
   "name": "python3"
  },
  "language_info": {
   "codemirror_mode": {
    "name": "ipython",
    "version": 3
   },
   "file_extension": ".py",
   "mimetype": "text/x-python",
   "name": "python",
   "nbconvert_exporter": "python",
   "pygments_lexer": "ipython3",
   "version": "3.6.5"
  }
 },
 "nbformat": 4,
 "nbformat_minor": 2
}
